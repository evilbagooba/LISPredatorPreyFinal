{
 "cells": [
  {
   "cell_type": "code",
   "execution_count": 2,
   "id": "5abd9251",
   "metadata": {},
   "outputs": [
    {
     "name": "stdout",
     "output_type": "stream",
     "text": [
      "Requirement already satisfied: Box2D in /home/qrbao/anaconda3/envs/rllib/lib/python3.10/site-packages (2.3.10)\n"
     ]
    }
   ],
   "source": [
    "!pip install Box2D"
   ]
  },
  {
   "cell_type": "code",
   "execution_count": 3,
   "id": "5393610c",
   "metadata": {},
   "outputs": [],
   "source": [
    "from pettingzoo.sisl import multiwalker_v9\n",
    "import supersuit as ss\n",
    "from pettingzoo.test import api_test\n"
   ]
  },
  {
   "cell_type": "code",
   "execution_count": 4,
   "id": "c088fc22",
   "metadata": {},
   "outputs": [],
   "source": [
    "env = multiwalker_v9.env(n_walkers=10,render_mode=\"human\")\n",
    "# env = ss.black_death_v3(env)"
   ]
  },
  {
   "cell_type": "code",
   "execution_count": 5,
   "id": "8c82cafb",
   "metadata": {},
   "outputs": [
    {
     "name": "stdout",
     "output_type": "stream",
     "text": [
      "Starting API test\n",
      "Finished test_observation\n",
      "Finished test_observation_action_spaces\n",
      "Finished play test\n",
      "Finished test_rewards_terminations_truncations\n",
      "Passed API test\n"
     ]
    }
   ],
   "source": [
    "api_test(env, num_cycles=1000, verbose_progress=True)"
   ]
  },
  {
   "cell_type": "code",
   "execution_count": null,
   "id": "86301f62",
   "metadata": {},
   "outputs": [],
   "source": [
    "env.reset(seed=42)\n",
    "\n",
    "for agent in env.agent_iter():\n",
    "    observation, reward, termination, truncation, info = env.last()\n",
    "\n",
    "    if termination or truncation:\n",
    "        action = None\n",
    "    else:\n",
    "        # this is where you would insert your policy\n",
    "        action = env.action_space(agent).sample()\n",
    "\n",
    "    env.step(action)\n",
    "env.close()\n"
   ]
  }
 ],
 "metadata": {
  "kernelspec": {
   "display_name": "rllib",
   "language": "python",
   "name": "python3"
  },
  "language_info": {
   "codemirror_mode": {
    "name": "ipython",
    "version": 3
   },
   "file_extension": ".py",
   "mimetype": "text/x-python",
   "name": "python",
   "nbconvert_exporter": "python",
   "pygments_lexer": "ipython3",
   "version": "3.10.13"
  }
 },
 "nbformat": 4,
 "nbformat_minor": 5
}
